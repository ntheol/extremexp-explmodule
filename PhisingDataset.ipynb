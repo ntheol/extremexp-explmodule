{
 "cells": [
  {
   "cell_type": "markdown",
   "metadata": {},
   "source": [
    "## Phising Dataset\n",
    "\n",
    "To collect the dataset, we have deployed multiple agents and soluble agents within an infrastructure with\n",
    "more than 3k entities, comprising laptops, workstations, and smartphone devices. <br> The methods to build\n",
    "ground truth are as follows:\n",
    "\n",
    "- Simulator: We launch different realistic phishing campaigns, aiming to expose user credentials or defeat access to a service.\n",
    "- IDS: We deploy an IDS to collect various alerts associated with behavioral anomalies, such as cryptomining or peer-to-peer traffic.\n",
    "\n",
    "For each user exposed to the behaviors stated in the summary table, different TW is computed, aggregating\n",
    "user behavior within a fixed time interval. <br> This TW serves as the basis for generating various supervised\n",
    "and unsupervised methods."
   ]
  },
  {
   "cell_type": "markdown",
   "metadata": {},
   "source": [
    "## Time window representation \n",
    "\n",
    "The time windows (TW) are a data representation based on aggregated logs from multimodal sources between two\n",
    "timestamps. <br> In this study, logs from HTTP, DNS, SSL, and SMTP are taken into consideration, allowing the\n",
    "construction of rich behavioral profiles. <br> The indicators described in the TE are a set of manually curated\n",
    "interpretable features designed to describe device-level properties within the specified time frame."
   ]
  },
  {
   "cell_type": "code",
   "execution_count": 1,
   "metadata": {},
   "outputs": [],
   "source": [
    "import pandas as pd\n",
    "import xgboost as xgb\n",
    "from sklearn.pipeline import Pipeline\n",
    "from sklearn.preprocessing import StandardScaler,RobustScaler,MinMaxScaler\n",
    "from modules.lib_IF import *\n",
    "from modules.lib import *\n",
    "from modules.optimizer import *\n",
    "from xai_client import Client\n",
    "import json\n"
   ]
  },
  {
   "cell_type": "code",
   "execution_count": 2,
   "metadata": {},
   "outputs": [],
   "source": [
    "entity = \"desktop\" #desktop or smartphone\n",
    "threat = \"phishing_behaviour\" \n",
    "path_dataset = f'data/Risky Behaviour Datasets/{threat}/min_windows_size_6/{entity}_features.pckl'\n",
    "seed = 42\n",
    "dataset = pd.read_pickle(path_dataset)"
   ]
  },
  {
   "cell_type": "markdown",
   "metadata": {},
   "source": [
    "#### Load and split dataset based on the unique users"
   ]
  },
  {
   "cell_type": "code",
   "execution_count": 3,
   "metadata": {},
   "outputs": [],
   "source": [
    "from sklearn.model_selection import train_test_split\n",
    "\n",
    "\n",
    "unique_users = dataset.loc[dataset[\"label\"] != -1, 'user_id'].unique()\n",
    "# Split user IDs into train_test and validation sets\n",
    "# We fix validation dataset to be always the same by fixing the random state, the rest changes\n",
    "users_train_test, users_validation = train_test_split(unique_users, test_size=0.3, random_state=seed)\n",
    "\n",
    "data_train_test = dataset[dataset['user_id'].isin(users_train_test)]\n",
    "data_validation_labeled = dataset[dataset['user_id'].isin(users_validation)]\n"
   ]
  },
  {
   "cell_type": "code",
   "execution_count": 4,
   "metadata": {},
   "outputs": [],
   "source": [
    "data_train_test = data_train_test.drop(columns=[\"timestamp\", \"user_id\", \"entity\"])"
   ]
  },
  {
   "cell_type": "code",
   "execution_count": 5,
   "metadata": {},
   "outputs": [],
   "source": [
    "data_validation_labeled = data_validation_labeled.drop(columns=[\"timestamp\", \"user_id\", \"entity\"])"
   ]
  },
  {
   "cell_type": "markdown",
   "metadata": {},
   "source": [
    "### Model creation and Training"
   ]
  },
  {
   "cell_type": "code",
   "execution_count": 6,
   "metadata": {},
   "outputs": [],
   "source": [
    "import numpy as np\n",
    "cat_columns = data_train_test.select_dtypes(exclude=[np.number]).columns.tolist()\n",
    "numeric_columns = data_train_test.drop(columns='label').select_dtypes(exclude=['object']).columns.tolist()"
   ]
  },
  {
   "cell_type": "code",
   "execution_count": 10,
   "metadata": {},
   "outputs": [],
   "source": [
    "numerical_transformer = Pipeline([\n",
    "    ('scaler', StandardScaler())\n",
    "])\n",
    "\n",
    "preprocessor = ColumnTransformer(\n",
    "    transformers=[\n",
    "        ('num', numerical_transformer,numeric_columns),\n",
    "    ])\n",
    "\n",
    "hyperparameters = {'Model__max_depth': (2, 4, 6, 10),\n",
    "                                'Model__min_child_weight': (1, 3),\n",
    "                                'Model__learning_rate': [0.001, 0.01, 0.1],\n",
    "                                'Model__n_estimators': (25, 50, 75 , 100),\n",
    "                                \"preprocessor__num__scaler\": [StandardScaler(), MinMaxScaler(),RobustScaler()]}\n",
    "\n",
    "ml_pipeline = Pipeline([(\"preprocessor\", preprocessor),\n",
    "                        (\"Model\", xgb.XGBClassifier())])\n",
    "\n",
    "# optimizer = ModelOptimizer(ml_pipeline,param_grid=hyperparameters,optimization_algorithm='grid_search')\n",
    "# opt = optimizer.optimize(data_train_test.drop(columns='label'),data_train_test.label)"
   ]
  },
  {
   "cell_type": "code",
   "execution_count": 7,
   "metadata": {},
   "outputs": [],
   "source": [
    "# import itertools\n",
    "# import time\n",
    "# from sklearn.metrics import (\n",
    "#     accuracy_score, precision_score, recall_score, f1_score,\n",
    "#     confusion_matrix\n",
    "# )\n",
    "# param_keys = hyperparameters.keys()\n",
    "# param_values = hyperparameters.values()\n",
    "# combinations = list(itertools.product(*param_values))\n",
    "\n",
    "# # Create an empty list to store results\n",
    "# results = []\n",
    "# all_test_results = []\n",
    "\n",
    "# # Perform the grid search manually\n",
    "# model_id = 0\n",
    "# new_trained_models = {}\n",
    "# for combination in combinations:\n",
    "#     print(combination)\n",
    "#     params = dict(zip(param_keys, combination))\n",
    "    \n",
    "#     ml_pipeline = Pipeline([(\"preprocessor\", preprocessor),\n",
    "#                         (\"Model\", xgb.XGBClassifier())])\n",
    "#     # Set the parameters to the pipeline\n",
    "#     ml_pipeline.set_params(**params)\n",
    "    \n",
    "#     # Record the start time\n",
    "#     start_time = time.time()\n",
    "    \n",
    "#     # Fit the model\n",
    "#     ml_pipeline.fit(data_train_test.drop(columns='label'), data_train_test.label)\n",
    "#     new_trained_models[model_id] = ml_pipeline\n",
    "#     # Record the end time\n",
    "#     # end_time = time.time()\n",
    "#     # runtime = end_time - start_time\n",
    "    \n",
    "#     # # Make predictions\n",
    "#     # y_pred = ml_pipeline.predict(data_validation_labeled.drop(columns='label'))\n",
    "    \n",
    "#     # # Evaluate the model\n",
    "#     # accuracy = accuracy_score(data_validation_labeled.label, y_pred)\n",
    "#     # precision = precision_score(data_validation_labeled.label, y_pred, average='binary')\n",
    "#     # recall = recall_score(data_validation_labeled.label, y_pred, average='binary')\n",
    "#     # f1 = f1_score(data_validation_labeled.label, y_pred, average='binary')\n",
    "#     # f1_macro = f1_score(data_validation_labeled.label, y_pred, average='macro')\n",
    "    \n",
    "#     # # Compute confusion matrix\n",
    "#     # tn, fp, fn, tp = confusion_matrix(data_validation_labeled.label, y_pred).ravel()\n",
    "    \n",
    "#     # # Record the hyperparameters, performance, runtime, and model ID\n",
    "#     # result = {\n",
    "#     #     'max_depth': params['Model__max_depth'],\n",
    "#     #     'min_child_weight': params['Model__min_child_weight'],\n",
    "#     #     'learning_rate': params['Model__learning_rate'],\n",
    "#     #     'n_estimators': params['Model__n_estimators'],\n",
    "#     #     'scaler': type(params['preprocessor__num__scaler']).__name__,\n",
    "#     #     'accuracy': accuracy,\n",
    "#     #     'precision': precision,\n",
    "#     #     'recall': recall,\n",
    "#     #     'f1_score': f1,\n",
    "#     #     'f1_macro': f1_macro,\n",
    "#     #     'true_positives': tp,\n",
    "#     #     'false_positives': fp,\n",
    "#     #     'true_negatives': tn,\n",
    "#     #     'false_negatives': fn,\n",
    "#     #     'runtime': runtime,\n",
    "#     #     'id': model_id\n",
    "#     # }\n",
    "#     # results.append(result)\n",
    "    \n",
    "#     # test_results_df = pd.DataFrame(data_validation_labeled.drop(columns='label'))\n",
    "#     # test_results_df['label'] = data_validation_labeled.label\n",
    "#     # test_results_df['prediction'] = y_pred\n",
    "#     # test_results_df['id'] = model_id\n",
    "    \n",
    "#     # # Append the test results to the list\n",
    "#     # all_test_results.append(test_results_df)\n",
    "#     # Increment the model ID\n",
    "#     model_id += 1\n",
    "#     # if model_id==3:\n",
    "#     #     break\n",
    "\n",
    "# # Convert the results to a DataFrame\n",
    "# # results_df = pd.DataFrame(results)"
   ]
  },
  {
   "cell_type": "code",
   "execution_count": 8,
   "metadata": {},
   "outputs": [],
   "source": [
    "import joblib\n",
    "\n",
    "opt = joblib.load('metadata/proxy_data_models/phising_fullgrid.pkl')"
   ]
  },
  {
   "cell_type": "code",
   "execution_count": 9,
   "metadata": {},
   "outputs": [],
   "source": [
    "query = pd.DataFrame.from_dict(opt.best_params_,orient='index').T"
   ]
  },
  {
   "cell_type": "code",
   "execution_count": 10,
   "metadata": {},
   "outputs": [],
   "source": [
    "# import joblib\n",
    "\n",
    "\n",
    "# joblib.dump(opt, 'phising_fullgrid.pkl')"
   ]
  },
  {
   "cell_type": "code",
   "execution_count": 11,
   "metadata": {},
   "outputs": [
    {
     "name": "stdout",
     "output_type": "stream",
     "text": [
      "Accuracy Score is 0.647415329768271\n"
     ]
    },
    {
     "data": {
      "image/png": "[encoded data removed]",
      "text/plain": [
       "<Figure size 640x480 with 2 Axes>"
      ]
     },
     "metadata": {},
     "output_type": "display_data"
    }
   ],
   "source": [
    "from sklearn.metrics import accuracy_score\n",
    "from sklearn.metrics import confusion_matrix, ConfusionMatrixDisplay\n",
    "from sklearn.metrics import confusion_matrix\n",
    "\n",
    "test = data_validation_labeled.drop(columns='label')\n",
    "test_labels = data_validation_labeled.label\n",
    "best_model = opt.best_estimator_\n",
    "pred_y_test = best_model.predict(test)\n",
    "\n",
    "print(f'Accuracy Score is {accuracy_score(test_labels,pred_y_test)}')\n",
    "cm = confusion_matrix(test_labels, pred_y_test)\n",
    "disp = ConfusionMatrixDisplay(confusion_matrix=cm)\n",
    "disp.plot();"
   ]
  },
  {
   "cell_type": "code",
   "execution_count": 12,
   "metadata": {},
   "outputs": [],
   "source": [
    "cm = pd.DataFrame(cm, columns=['Predicted Negative', 'Predicted Positive'], index=['Actual Negative', 'Actual Positive'])"
   ]
  },
  {
   "cell_type": "code",
   "execution_count": 13,
   "metadata": {},
   "outputs": [
    {
     "name": "stdout",
     "output_type": "stream",
     "text": [
      "              precision    recall  f1-score   support\n",
      "\n",
      "           0       0.71      0.79      0.75      1883\n",
      "           1       0.45      0.35      0.40       922\n",
      "\n",
      "    accuracy                           0.65      2805\n",
      "   macro avg       0.58      0.57      0.57      2805\n",
      "weighted avg       0.63      0.65      0.63      2805\n",
      "\n"
     ]
    }
   ],
   "source": [
    "from sklearn.metrics import classification_report\n",
    "print(classification_report(test_labels, pred_y_test))"
   ]
  },
  {
   "cell_type": "code",
   "execution_count": 14,
   "metadata": {},
   "outputs": [],
   "source": [
    "classification_report = pd.DataFrame(classification_report(test_labels, pred_y_test,output_dict=True)).transpose()"
   ]
  },
  {
   "cell_type": "markdown",
   "metadata": {},
   "source": [
    "## Proxy Model creation for PDP-ALE and Counterfactual Explanations"
   ]
  },
  {
   "cell_type": "code",
   "execution_count": 15,
   "metadata": {},
   "outputs": [],
   "source": [
    "hyperparameters = {'Model__max_depth': (2, 4, 6, 10),\n",
    "                                'Model__min_child_weight': (1, 3),\n",
    "                                'Model__learning_rate': [0.001, 0.01, 0.1],\n",
    "                                'Model__n_estimators': (25, 50, 75 , 100),\n",
    "                                \"preprocessor__num__scaler\": [StandardScaler(), MinMaxScaler(),RobustScaler()]}"
   ]
  },
  {
   "cell_type": "code",
   "execution_count": 16,
   "metadata": {},
   "outputs": [],
   "source": [
    "    # proxy model for PDP-ALE\n",
    "surrogate_model_accuracy = proxy_model(opt.param_grid,opt,'accuracy','XGBoostRegressor')"
   ]
  },
  {
   "cell_type": "code",
   "execution_count": 17,
   "metadata": {},
   "outputs": [],
   "source": [
    "# missclassified = pd.concat([test, test_labels.rename('GroundTruth')], axis=1).reset_index(drop=True)\n",
    "# missclassified['Predicted'] = pred_y_test\n",
    "# missclassified['Label'] = (missclassified['GroundTruth'] != missclassified['Predicted']).astype(int)\n",
    "# missclassified[missclassified['Label']==1]"
   ]
  },
  {
   "cell_type": "code",
   "execution_count": 18,
   "metadata": {},
   "outputs": [],
   "source": [
    "# missclassified[missclassified['Label']==1].drop(columns='Label').to_csv('misclassified_instances.csv')"
   ]
  },
  {
   "cell_type": "code",
   "execution_count": 19,
   "metadata": {},
   "outputs": [],
   "source": [
    "# missclassified[missclassified['Label']==1].drop(columns='Label')"
   ]
  },
  {
   "cell_type": "code",
   "execution_count": 20,
   "metadata": {},
   "outputs": [],
   "source": [
    "missclassified_instances = pd.read_csv('Real_I2Cat_missclassified_instances.csv',index_col=0)\n",
    "# misclassified_instance = missclassified.drop(columns=['GroundTruth','Label']).loc[5]\n",
    "train = data_train_test.drop(columns='label')\n",
    "train_labels = data_train_test.label\n",
    "# #proxy_model and dataset for counterfactual explanations\n",
    "# proxy_model , proxy_dataset = instance_proxy(train,train_labels,opt, misclassified_instance,hyperparameters)"
   ]
  },
  {
   "cell_type": "code",
   "execution_count": 21,
   "metadata": {},
   "outputs": [],
   "source": [
    "query = pd.DataFrame.from_dict(opt.best_params_,orient='index').T\n"
   ]
  },
  {
   "cell_type": "markdown",
   "metadata": {},
   "source": [
    "## Create gRPC Client"
   ]
  },
  {
   "cell_type": "markdown",
   "metadata": {},
   "source": [
    "### Run `python xai_server.py` command on terminal in order to start server"
   ]
  },
  {
   "cell_type": "markdown",
   "metadata": {},
   "source": [
    "### Compute PDP 1D Plots via gRPC"
   ]
  },
  {
   "cell_type": "code",
   "execution_count": 17,
   "metadata": {},
   "outputs": [],
   "source": [
    "client = Client()\n",
    "k = client.get_explanations(explanation_type='hyperparameterExplanation',explanation_method='pdp',model='I2Cat_Phising_model',feature1='Model__n_estimators')"
   ]
  },
  {
   "cell_type": "markdown",
   "metadata": {},
   "source": [
    "### Compute PDP 2D Plots via gRPC"
   ]
  },
  {
   "cell_type": "code",
   "execution_count": 19,
   "metadata": {},
   "outputs": [],
   "source": [
    "client = Client()\n",
    "explainability_type,explanation_method,explainability_model,plot_name,plot_descr,plot_type,features,xAxis,yAxis,zAxis= client.get_explanations(explanation_type='hyperparameterExplanation',explanation_method='2dpdp',model='I2Cat_Phising_model',feature1='Model__min_child_weight',feature2='Model__max_depth')"
   ]
  },
  {
   "cell_type": "markdown",
   "metadata": {},
   "source": [
    "### Compute ALE Plots via gRPC"
   ]
  },
  {
   "cell_type": "code",
   "execution_count": 20,
   "metadata": {},
   "outputs": [],
   "source": [
    "client = Client()\n",
    "explainability_type,explanation_method,explainability_model,plot_name,plot_descr,plot_type,features,xAxis,yAxis = client.get_explanations(explanation_type='hyperparameterExplanation',explanation_method='ale',model='I2Cat_Phising_model',feature1='Model__max_depth')"
   ]
  },
  {
   "cell_type": "markdown",
   "metadata": {},
   "source": [
    "### Counterfactual Explanations via gRPC"
   ]
  },
  {
   "cell_type": "code",
   "execution_count": 21,
   "metadata": {},
   "outputs": [],
   "source": [
    "import grpc\n",
    "import xai_service_pb2\n",
    "import xai_service_pb2_grpc\n",
    "with grpc.insecure_channel('localhost:50051') as channel:\n",
    "    stub = xai_service_pb2_grpc.ExplanationsStub(channel)\n",
    "    k = stub.GetExplanation(xai_service_pb2.ExplanationsRequest(explanation_type='hyperparameterExplanation',explanation_method='counterfactuals',model='I2Cat_Phising_model',model_id=1,query=str(missclassified_instances.reset_index(drop=True).drop(columns = ['label','prediction','id']).loc[806913].to_dict())))\n"
   ]
  },
  {
   "cell_type": "markdown",
   "metadata": {},
   "source": [
    "## Model Explainability"
   ]
  },
  {
   "cell_type": "markdown",
   "metadata": {},
   "source": [
    "### PDPlots and 2D PDPlots via gRPC"
   ]
  },
  {
   "cell_type": "code",
   "execution_count": 22,
   "metadata": {},
   "outputs": [],
   "source": [
    "client = Client()\n",
    "explainability_type,explanation_method,explainability_model,plot_name,plot_descr,plot_type,features,xAxis,yAxis,zAxis = client.get_explanations(explanation_type='featureExplanation',explanation_method='pdp',\n",
    "                                                  model = 'I2Cat_Phising_model',model_id=209, feature1='dns_interlog_time_q1')\n",
    "\n"
   ]
  },
  {
   "cell_type": "markdown",
   "metadata": {},
   "source": [
    "## CounterfactualsExplanations via gRPC"
   ]
  },
  {
   "cell_type": "code",
   "execution_count": 23,
   "metadata": {},
   "outputs": [],
   "source": [
    "client = Client()\n",
    "explainability_type,explanation_method,explainability_model,plot_name,plot_descr,plot_type,table_contents = client.get_explanations(explanation_type='featureExplanation',explanation_method='counterfactuals',query=str(missclassified_instances.reset_index(drop=True).loc[806913].to_dict()),model='I2Cat_Phising_model',model_id = 10,target='label')"
   ]
  },
  {
   "cell_type": "markdown",
   "metadata": {},
   "source": [
    "### ALE plots via gRPC"
   ]
  },
  {
   "cell_type": "code",
   "execution_count": 24,
   "metadata": {},
   "outputs": [],
   "source": [
    "client = Client()\n",
    "explainability_type,explanation_method,explainability_model,plot_name,plot_descr,plot_type,features,xAxis,yAxis = client.get_explanations(explanation_type='featureExplanation',explanation_method='ale',\n",
    "                                                  model = 'I2Cat_Phising_model', model_id=21, feature1='dns_interlog_time_q1')"
   ]
  },
  {
   "cell_type": "markdown",
   "metadata": {},
   "source": [
    "### Prototypes via gRPC"
   ]
  },
  {
   "cell_type": "code",
   "execution_count": 22,
   "metadata": {},
   "outputs": [],
   "source": [
    "test = test.reset_index(drop=True)\n",
    "test['predictions'] = opt.predict(test)"
   ]
  },
  {
   "cell_type": "code",
   "execution_count": 23,
   "metadata": {},
   "outputs": [],
   "source": [
    "import grpc\n",
    "import xai_service_pb2\n",
    "import xai_service_pb2_grpc\n",
    "\n",
    "with grpc.insecure_channel('localhost:50051') as channel:\n",
    "    stub = xai_service_pb2_grpc.ExplanationsStub(channel)\n",
    "    k = stub.GetExplanation(xai_service_pb2.ExplanationsRequest(explanation_type='featureExplanation',explanation_method='prototypes',query=str(test.loc[10].to_dict()),model='I2Cat_Phising_model',model_id = 10))"
   ]
  },
  {
   "cell_type": "code",
   "execution_count": 27,
   "metadata": {},
   "outputs": [],
   "source": [
    "with grpc.insecure_channel('localhost:50051') as channel:\n",
    "    stub = xai_service_pb2_grpc.ExplanationsStub(channel)\n",
    "    k = stub.GetExplanation(xai_service_pb2.ExplanationsRequest(explanation_type='featureExplanation',explanation_method='2D_PDPlots',model = 'I2Cat_Phising_model',model_id=256, feature1='dns_interlog_time_q1',feature2='dns_interlog_time_q2'))"
   ]
  },
  {
   "cell_type": "code",
   "execution_count": 4,
   "metadata": {},
   "outputs": [],
   "source": [
    "import grpc\n",
    "import xai_service_pb2\n",
    "import xai_service_pb2_grpc\n",
    "\n",
    "with grpc.insecure_channel('localhost:50051') as channel:\n",
    "    stub = xai_service_pb2_grpc.ExplanationsStub(channel)\n",
    "    k = stub.Initialization(xai_service_pb2.InitializationRequest(model_name = 'I2Cat_Phising_model'))"
   ]
  },
  {
   "cell_type": "code",
   "execution_count": 22,
   "metadata": {},
   "outputs": [],
   "source": [
    "import grpc\n",
    "import xai_service_pb2\n",
    "import xai_service_pb2_grpc\n",
    "\n",
    "with grpc.insecure_channel('localhost:50051') as channel:\n",
    "    stub = xai_service_pb2_grpc.ExplanationsStub(channel)\n",
    "    k = stub.ModelAnalysisTask(xai_service_pb2.ModelAnalysisTaskRequest(model_name = 'I2Cat_Phising_model',model_id=258))"
   ]
  },
  {
   "cell_type": "code",
   "execution_count": 34,
   "metadata": {},
   "outputs": [
    {
     "data": {
      "text/html": [
       "<div>\n",
       "<style scoped>\n",
       "    .dataframe tbody tr th:only-of-type {\n",
       "        vertical-align: middle;\n",
       "    }\n",
       "\n",
       "    .dataframe tbody tr th {\n",
       "        vertical-align: top;\n",
       "    }\n",
       "\n",
       "    .dataframe thead th {\n",
       "        text-align: right;\n",
       "    }\n",
       "</style>\n",
       "<table border=\"1\" class=\"dataframe\">\n",
       "  <thead>\n",
       "    <tr style=\"text-align: right;\">\n",
       "      <th></th>\n",
       "      <th>max_depth</th>\n",
       "      <th>min_child_weight</th>\n",
       "      <th>learning_rate</th>\n",
       "      <th>n_estimators</th>\n",
       "      <th>scaler</th>\n",
       "      <th>accuracy</th>\n",
       "      <th>precision</th>\n",
       "      <th>recall</th>\n",
       "      <th>f1_score</th>\n",
       "      <th>f1_macro</th>\n",
       "      <th>true_positives</th>\n",
       "      <th>false_positives</th>\n",
       "      <th>true_negatives</th>\n",
       "      <th>false_negatives</th>\n",
       "      <th>runtime</th>\n",
       "      <th>id</th>\n",
       "    </tr>\n",
       "  </thead>\n",
       "  <tbody>\n",
       "    <tr>\n",
       "      <th>0</th>\n",
       "      <td>2</td>\n",
       "      <td>1</td>\n",
       "      <td>0.001</td>\n",
       "      <td>25</td>\n",
       "      <td>StandardScaler</td>\n",
       "      <td>0.671301</td>\n",
       "      <td>0.000000</td>\n",
       "      <td>0.000000</td>\n",
       "      <td>0.000000</td>\n",
       "      <td>0.401664</td>\n",
       "      <td>0</td>\n",
       "      <td>0</td>\n",
       "      <td>1883</td>\n",
       "      <td>922</td>\n",
       "      <td>0.288919</td>\n",
       "      <td>0</td>\n",
       "    </tr>\n",
       "    <tr>\n",
       "      <th>1</th>\n",
       "      <td>2</td>\n",
       "      <td>1</td>\n",
       "      <td>0.001</td>\n",
       "      <td>25</td>\n",
       "      <td>MinMaxScaler</td>\n",
       "      <td>0.671301</td>\n",
       "      <td>0.000000</td>\n",
       "      <td>0.000000</td>\n",
       "      <td>0.000000</td>\n",
       "      <td>0.401664</td>\n",
       "      <td>0</td>\n",
       "      <td>0</td>\n",
       "      <td>1883</td>\n",
       "      <td>922</td>\n",
       "      <td>0.210936</td>\n",
       "      <td>1</td>\n",
       "    </tr>\n",
       "    <tr>\n",
       "      <th>2</th>\n",
       "      <td>2</td>\n",
       "      <td>1</td>\n",
       "      <td>0.001</td>\n",
       "      <td>25</td>\n",
       "      <td>RobustScaler</td>\n",
       "      <td>0.671301</td>\n",
       "      <td>0.000000</td>\n",
       "      <td>0.000000</td>\n",
       "      <td>0.000000</td>\n",
       "      <td>0.401664</td>\n",
       "      <td>0</td>\n",
       "      <td>0</td>\n",
       "      <td>1883</td>\n",
       "      <td>922</td>\n",
       "      <td>0.316979</td>\n",
       "      <td>2</td>\n",
       "    </tr>\n",
       "    <tr>\n",
       "      <th>3</th>\n",
       "      <td>2</td>\n",
       "      <td>1</td>\n",
       "      <td>0.001</td>\n",
       "      <td>50</td>\n",
       "      <td>StandardScaler</td>\n",
       "      <td>0.671301</td>\n",
       "      <td>0.000000</td>\n",
       "      <td>0.000000</td>\n",
       "      <td>0.000000</td>\n",
       "      <td>0.401664</td>\n",
       "      <td>0</td>\n",
       "      <td>0</td>\n",
       "      <td>1883</td>\n",
       "      <td>922</td>\n",
       "      <td>0.302653</td>\n",
       "      <td>3</td>\n",
       "    </tr>\n",
       "    <tr>\n",
       "      <th>4</th>\n",
       "      <td>2</td>\n",
       "      <td>1</td>\n",
       "      <td>0.001</td>\n",
       "      <td>50</td>\n",
       "      <td>MinMaxScaler</td>\n",
       "      <td>0.671301</td>\n",
       "      <td>0.000000</td>\n",
       "      <td>0.000000</td>\n",
       "      <td>0.000000</td>\n",
       "      <td>0.401664</td>\n",
       "      <td>0</td>\n",
       "      <td>0</td>\n",
       "      <td>1883</td>\n",
       "      <td>922</td>\n",
       "      <td>0.289628</td>\n",
       "      <td>4</td>\n",
       "    </tr>\n",
       "    <tr>\n",
       "      <th>...</th>\n",
       "      <td>...</td>\n",
       "      <td>...</td>\n",
       "      <td>...</td>\n",
       "      <td>...</td>\n",
       "      <td>...</td>\n",
       "      <td>...</td>\n",
       "      <td>...</td>\n",
       "      <td>...</td>\n",
       "      <td>...</td>\n",
       "      <td>...</td>\n",
       "      <td>...</td>\n",
       "      <td>...</td>\n",
       "      <td>...</td>\n",
       "      <td>...</td>\n",
       "      <td>...</td>\n",
       "      <td>...</td>\n",
       "    </tr>\n",
       "    <tr>\n",
       "      <th>283</th>\n",
       "      <td>10</td>\n",
       "      <td>3</td>\n",
       "      <td>0.100</td>\n",
       "      <td>75</td>\n",
       "      <td>MinMaxScaler</td>\n",
       "      <td>0.652406</td>\n",
       "      <td>0.463649</td>\n",
       "      <td>0.366594</td>\n",
       "      <td>0.409449</td>\n",
       "      <td>0.581587</td>\n",
       "      <td>338</td>\n",
       "      <td>391</td>\n",
       "      <td>1492</td>\n",
       "      <td>584</td>\n",
       "      <td>1.172474</td>\n",
       "      <td>283</td>\n",
       "    </tr>\n",
       "    <tr>\n",
       "      <th>284</th>\n",
       "      <td>10</td>\n",
       "      <td>3</td>\n",
       "      <td>0.100</td>\n",
       "      <td>75</td>\n",
       "      <td>RobustScaler</td>\n",
       "      <td>0.652406</td>\n",
       "      <td>0.463649</td>\n",
       "      <td>0.366594</td>\n",
       "      <td>0.409449</td>\n",
       "      <td>0.581587</td>\n",
       "      <td>338</td>\n",
       "      <td>391</td>\n",
       "      <td>1492</td>\n",
       "      <td>584</td>\n",
       "      <td>1.210568</td>\n",
       "      <td>284</td>\n",
       "    </tr>\n",
       "    <tr>\n",
       "      <th>285</th>\n",
       "      <td>10</td>\n",
       "      <td>3</td>\n",
       "      <td>0.100</td>\n",
       "      <td>100</td>\n",
       "      <td>StandardScaler</td>\n",
       "      <td>0.646702</td>\n",
       "      <td>0.453691</td>\n",
       "      <td>0.366594</td>\n",
       "      <td>0.405519</td>\n",
       "      <td>0.577094</td>\n",
       "      <td>338</td>\n",
       "      <td>407</td>\n",
       "      <td>1476</td>\n",
       "      <td>584</td>\n",
       "      <td>1.446060</td>\n",
       "      <td>285</td>\n",
       "    </tr>\n",
       "    <tr>\n",
       "      <th>286</th>\n",
       "      <td>10</td>\n",
       "      <td>3</td>\n",
       "      <td>0.100</td>\n",
       "      <td>100</td>\n",
       "      <td>MinMaxScaler</td>\n",
       "      <td>0.646702</td>\n",
       "      <td>0.453691</td>\n",
       "      <td>0.366594</td>\n",
       "      <td>0.405519</td>\n",
       "      <td>0.577094</td>\n",
       "      <td>338</td>\n",
       "      <td>407</td>\n",
       "      <td>1476</td>\n",
       "      <td>584</td>\n",
       "      <td>1.432751</td>\n",
       "      <td>286</td>\n",
       "    </tr>\n",
       "    <tr>\n",
       "      <th>287</th>\n",
       "      <td>10</td>\n",
       "      <td>3</td>\n",
       "      <td>0.100</td>\n",
       "      <td>100</td>\n",
       "      <td>RobustScaler</td>\n",
       "      <td>0.646702</td>\n",
       "      <td>0.453691</td>\n",
       "      <td>0.366594</td>\n",
       "      <td>0.405519</td>\n",
       "      <td>0.577094</td>\n",
       "      <td>338</td>\n",
       "      <td>407</td>\n",
       "      <td>1476</td>\n",
       "      <td>584</td>\n",
       "      <td>1.459647</td>\n",
       "      <td>287</td>\n",
       "    </tr>\n",
       "  </tbody>\n",
       "</table>\n",
       "<p>288 rows × 16 columns</p>\n",
       "</div>"
      ],
      "text/plain": [
       "     max_depth  min_child_weight  learning_rate  n_estimators          scaler  \\\n",
       "0            2                 1          0.001            25  StandardScaler   \n",
       "1            2                 1          0.001            25    MinMaxScaler   \n",
       "2            2                 1          0.001            25    RobustScaler   \n",
       "3            2                 1          0.001            50  StandardScaler   \n",
       "4            2                 1          0.001            50    MinMaxScaler   \n",
       "..         ...               ...            ...           ...             ...   \n",
       "283         10                 3          0.100            75    MinMaxScaler   \n",
       "284         10                 3          0.100            75    RobustScaler   \n",
       "285         10                 3          0.100           100  StandardScaler   \n",
       "286         10                 3          0.100           100    MinMaxScaler   \n",
       "287         10                 3          0.100           100    RobustScaler   \n",
       "\n",
       "     accuracy  precision    recall  f1_score  f1_macro  true_positives  \\\n",
       "0    0.671301   0.000000  0.000000  0.000000  0.401664               0   \n",
       "1    0.671301   0.000000  0.000000  0.000000  0.401664               0   \n",
       "2    0.671301   0.000000  0.000000  0.000000  0.401664               0   \n",
       "3    0.671301   0.000000  0.000000  0.000000  0.401664               0   \n",
       "4    0.671301   0.000000  0.000000  0.000000  0.401664               0   \n",
       "..        ...        ...       ...       ...       ...             ...   \n",
       "283  0.652406   0.463649  0.366594  0.409449  0.581587             338   \n",
       "284  0.652406   0.463649  0.366594  0.409449  0.581587             338   \n",
       "285  0.646702   0.453691  0.366594  0.405519  0.577094             338   \n",
       "286  0.646702   0.453691  0.366594  0.405519  0.577094             338   \n",
       "287  0.646702   0.453691  0.366594  0.405519  0.577094             338   \n",
       "\n",
       "     false_positives  true_negatives  false_negatives   runtime   id  \n",
       "0                  0            1883              922  0.288919    0  \n",
       "1                  0            1883              922  0.210936    1  \n",
       "2                  0            1883              922  0.316979    2  \n",
       "3                  0            1883              922  0.302653    3  \n",
       "4                  0            1883              922  0.289628    4  \n",
       "..               ...             ...              ...       ...  ...  \n",
       "283              391            1492              584  1.172474  283  \n",
       "284              391            1492              584  1.210568  284  \n",
       "285              407            1476              584  1.446060  285  \n",
       "286              407            1476              584  1.432751  286  \n",
       "287              407            1476              584  1.459647  287  \n",
       "\n",
       "[288 rows x 16 columns]"
      ]
     },
     "execution_count": 34,
     "metadata": {},
     "output_type": "execute_result"
    }
   ],
   "source": [
    "pd.read_csv('Real_I2Cat_metrics.csv',index_col=0)"
   ]
  }
 ],
 "metadata": {
  "kernelspec": {
   "display_name": "Python 3 (ipykernel)",
   "language": "python",
   "name": "python3"
  },
  "language_info": {
   "codemirror_mode": {
    "name": "ipython",
    "version": 3
   },
   "file_extension": ".py",
   "mimetype": "text/x-python",
   "name": "python",
   "nbconvert_exporter": "python",
   "pygments_lexer": "ipython3",
   "version": "3.10.14"
  }
 },
 "nbformat": 4,
 "nbformat_minor": 4
}
